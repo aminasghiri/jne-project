{
 "cells": [
  {
   "cell_type": "code",
   "execution_count": 22,
   "id": "e8cd577b-b46a-460f-b7b0-178f9658d700",
   "metadata": {},
   "outputs": [
    {
     "name": "stderr",
     "output_type": "stream",
     "text": [
      "usage: ipykernel_launcher.py [-h] --data DATA [--shapes SHAPES]\n",
      "                             [--outdir OUTDIR] [--inference {none,rdfs,owlrl}]\n",
      "                             [--advanced] [--abort_on_first]\n",
      "ipykernel_launcher.py: error: the following arguments are required: --data\n"
     ]
    },
    {
     "ename": "SystemExit",
     "evalue": "2",
     "output_type": "error",
     "traceback": [
      "An exception has occurred, use %tb to see the full traceback.\n",
      "\u001b[0;31mSystemExit\u001b[0m\u001b[0;31m:\u001b[0m 2\n"
     ]
    }
   ],
   "source": [
    "#!/usr/bin/env python3\n",
    "# -*- coding: utf-8 -*-\n",
    "# validate_shacl.py — Validation SHACL (Brick) d'un graphe Turtle\n",
    "\n",
    "import sys, argparse\n",
    "from pathlib import Path\n",
    "from rdflib import Graph\n",
    "from pyshacl import validate\n",
    "\n",
    "# ---------- util ----------\n",
    "def guess_format(p: Path) -> str:\n",
    "    suf = p.suffix.lower()\n",
    "    return {\"ttl\":\"turtle\",\"nt\":\"nt\",\"nq\":\"nquads\",\"trig\":\"trig\",\"jsonld\":\"json-ld\"}.get(suf,\"turtle\")\n",
    "\n",
    "def ensure_file(p: Path, name: str) -> Path:\n",
    "    if not p.exists():\n",
    "        raise FileNotFoundError(f\"{name} introuvable: {p}\")\n",
    "    return p\n",
    "\n",
    "# ---------- run ----------\n",
    "def run_validation(data_path: Path, shapes_path: Path, outdir: Path,\n",
    "                   inference: str = \"rdfs\", advanced: bool = False,\n",
    "                   abort_on_first: bool = False):\n",
    "    data_path  = ensure_file(data_path,  \"DATA\")\n",
    "    shapes_path= ensure_file(shapes_path,\"SHAPES\")\n",
    "    outdir.mkdir(parents=True, exist_ok=True)\n",
    "\n",
    "    # Charger les graphes\n",
    "    g_data   = Graph().parse(str(data_path),   format=guess_format(data_path))\n",
    "    g_shapes = Graph().parse(str(shapes_path), format=guess_format(shapes_path))\n",
    "\n",
    "    conforms, report_g, report_text = validate(\n",
    "        data_graph=g_data,\n",
    "        shacl_graph=g_shapes,\n",
    "        inference=inference,              # none | rdfs | owlrl\n",
    "        advanced=advanced,\n",
    "        abort_on_first=abort_on_first,\n",
    "        meta_shacl=False,\n",
    "        allow_infos=True,\n",
    "        allow_warnings=True,\n",
    "    )\n",
    "\n",
    "    base = data_path.stem\n",
    "    rep_ttl  = outdir / f\"{base}_shacl_report.ttl\"\n",
    "    rep_html = outdir / f\"{base}_shacl_report.html\"\n",
    "\n",
    "    report_g.serialize(destination=str(rep_ttl), format=\"turtle\")\n",
    "    rep_html.write_text(\n",
    "        f\"<html><meta charset='utf-8'><body>\"\n",
    "        f\"<h2>Conforms: {conforms}</h2><pre>{report_text}</pre>\"\n",
    "        f\"</body></html>\", encoding=\"utf-8\"\n",
    "    )\n",
    "\n",
    "    print(f\"Conforms: {conforms}\")\n",
    "    print(f\"Report TTL : {rep_ttl}\")\n",
    "    print(f\"Report HTML: {rep_html}\")\n",
    "    return 0 if conforms else 1\n",
    "\n",
    "# ---------- CLI ----------\n",
    "def main():\n",
    "    dflt_shapes = Path(\"brick_shacl.ttl\")  # votre fichier uploadé\n",
    "    parser = argparse.ArgumentParser(description=\"Validation SHACL (Brick)\")\n",
    "    parser.add_argument(\"--data\",   required=True, help=\"Chemin du graphe à valider (TTL/NT/JSON-LD)\")\n",
    "    parser.add_argument(\"--shapes\", default=str(dflt_shapes), help=\"Shapes SHACL (TTL). Par défaut: brick_shacl.ttl\")\n",
    "    parser.add_argument(\"--outdir\", default=\"~/DTE/jne_project/validation\", help=\"Dossier sortie\")\n",
    "    parser.add_argument(\"--inference\", choices=[\"none\",\"rdfs\",\"owlrl\"], default=\"rdfs\")\n",
    "    parser.add_argument(\"--advanced\", action=\"store_true\")\n",
    "    parser.add_argument(\"--abort_on_first\", action=\"store_true\")\n",
    "    args = parser.parse_args()\n",
    "\n",
    "    data   = Path(args.data).expanduser().resolve()\n",
    "    shapes = Path(args.shapes).expanduser().resolve()\n",
    "    outdir = Path(args.outdir).expanduser().resolve()\n",
    "\n",
    "    rc = run_validation(data, shapes, outdir,\n",
    "                        inference=args.inference,\n",
    "                        advanced=args.advanced,\n",
    "                        abort_on_first=args.abort_on_first)\n",
    "    sys.exit(rc)\n",
    "\n",
    "if __name__ == \"__main__\":\n",
    "    main()\n"
   ]
  },
  {
   "cell_type": "code",
   "execution_count": null,
   "id": "9ca76620-983a-47cb-87dd-73528da71938",
   "metadata": {},
   "outputs": [],
   "source": []
  }
 ],
 "metadata": {
  "kernelspec": {
   "display_name": "Python 3 (ipykernel)",
   "language": "python",
   "name": "python3"
  },
  "language_info": {
   "codemirror_mode": {
    "name": "ipython",
    "version": 3
   },
   "file_extension": ".py",
   "mimetype": "text/x-python",
   "name": "python",
   "nbconvert_exporter": "python",
   "pygments_lexer": "ipython3",
   "version": "3.10.12"
  }
 },
 "nbformat": 4,
 "nbformat_minor": 5
}
