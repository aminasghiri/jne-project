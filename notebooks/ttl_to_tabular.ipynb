{
 "cells": [
  {
   "cell_type": "code",
   "execution_count": 2,
   "id": "5d19df1c-02ac-4258-ba77-abda8d53726d",
   "metadata": {},
   "outputs": [
    {
     "name": "stdout",
     "output_type": "stream",
     "text": [
      "OK → /home/amina/DTE/jne_project/model/tabular/ai_ready_with_bim.parquet\n"
     ]
    }
   ],
   "source": [
    "# ttl_to_tabular.py\n",
    "from pathlib import Path\n",
    "import pandas as pd\n",
    "from rdflib import Graph, Namespace, URIRef, Literal\n",
    "BRICK = Namespace(\"https://brickschema.org/schema/Brick#\")\n",
    "EX    = Namespace(\"http://example.org/training#\")\n",
    "\n",
    "BASE = Path.home()/ \"DTE\" / \"jne_project\"\n",
    "RAW  = BASE/\"raw\"\n",
    "TTL  = BASE/\"graph\"/\"edtb_graph.ttl\"\n",
    "OUT  = BASE/\"model\"/\"tabular\"; OUT.mkdir(parents=True, exist_ok=True)\n",
    "\n",
    "def read_utc(p):\n",
    "    df = pd.read_csv(p, parse_dates=[\"ts\"])\n",
    "    if df[\"ts\"].dt.tz is None: df[\"ts\"] = df[\"ts\"].dt.tz_localize(\"UTC\")\n",
    "    else: df[\"ts\"] = df[\"ts\"].dt.tz_convert(\"UTC\")\n",
    "    return df\n",
    "\n",
    "def bim_meta(ttl_path):\n",
    "    g = Graph(); g.parse(ttl_path, format=\"turtle\")\n",
    "    room = EX.Room_101\n",
    "    m = {}\n",
    "    for p,o in g.predicate_objects(room):\n",
    "        if isinstance(o, Literal):\n",
    "            key = str(p).split(\"#\")[-1]\n",
    "            m[\"bim_\"+key] = float(o) if o.datatype and \"double\" in o.datatype else str(o)\n",
    "    # exemples supplémentaires utiles\n",
    "    for w in [EX.Wall_North, EX.Window1]:\n",
    "        for p,o in g.predicate_objects(w):\n",
    "            if isinstance(o, Literal):\n",
    "                key = f\"bim_{w.split('#')[-1]}__{str(p).split('#')[-1]}\"\n",
    "                m[key] = float(o) if o.datatype and \"double\" in o.datatype else str(o)\n",
    "    return m\n",
    "\n",
    "def main():\n",
    "    wx  = read_utc(RAW/\"weather/2025-03/weather.csv\").rename(columns={\"T_ext\":\"weather_temp_c\",\"RH\":\"weather_rh_pct\",\"wind\":\"weather_wind_ms\",\"GHI\":\"weather_ghi_wm2\"})\n",
    "    sen = read_utc(RAW/\"sensors/2025-03/zone_101_sensors.csv\")\n",
    "    bms = read_utc(RAW/\"bms/2025-03/bms.csv\")\n",
    "    occ = read_utc(RAW/\"occupancy/2025-03/occupancy.csv\")\n",
    "\n",
    "    dfs=[]\n",
    "    for df in (sen,bms,occ):\n",
    "        zid = df[\"zone_id\"].iloc[0] if \"zone_id\" in df.columns else None\n",
    "        if \"zone_id\" in df.columns: df=df.drop(columns=[\"zone_id\"])\n",
    "        df = df.add_prefix(\"s_\" if dfs==[] else \"\").rename(columns={\"s_ts\":\"ts\"})\n",
    "        df[\"zone_id\"]=zid; dfs.append(df)\n",
    "    sen,bms,occ = dfs\n",
    "\n",
    "    tab = (sen.merge(bms, on=[\"ts\",\"zone_id\"], how=\"outer\")\n",
    "              .merge(occ, on=[\"ts\",\"zone_id\"], how=\"outer\")\n",
    "              .merge(wx,  on=\"ts\",            how=\"left\")\n",
    "              .sort_values(\"ts\").reset_index(drop=True))\n",
    "\n",
    "    meta = bim_meta(TTL)\n",
    "    for k,v in meta.items(): tab[k]=v\n",
    "\n",
    "    out_parq = OUT/\"ai_ready_with_bim.parquet\"\n",
    "    out_csv  = OUT/\"ai_ready_with_bim.csv\"\n",
    "    tab.to_parquet(out_parq, index=False); tab.to_csv(out_csv, index=False)\n",
    "    print(\"OK →\", out_parq)\n",
    "\n",
    "if __name__ == \"__main__\":\n",
    "    main()\n"
   ]
  },
  {
   "cell_type": "code",
   "execution_count": null,
   "id": "b957ac80-2aff-474a-94c2-e0589827afcf",
   "metadata": {},
   "outputs": [],
   "source": []
  }
 ],
 "metadata": {
  "kernelspec": {
   "display_name": "Python 3 (ipykernel)",
   "language": "python",
   "name": "python3"
  },
  "language_info": {
   "codemirror_mode": {
    "name": "ipython",
    "version": 3
   },
   "file_extension": ".py",
   "mimetype": "text/x-python",
   "name": "python",
   "nbconvert_exporter": "python",
   "pygments_lexer": "ipython3",
   "version": "3.10.12"
  }
 },
 "nbformat": 4,
 "nbformat_minor": 5
}
